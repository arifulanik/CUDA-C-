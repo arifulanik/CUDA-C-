{
  "nbformat": 4,
  "nbformat_minor": 0,
  "metadata": {
    "colab": {
      "provenance": [],
      "gpuType": "T4"
    },
    "kernelspec": {
      "name": "python3",
      "display_name": "Python 3"
    },
    "language_info": {
      "name": "python"
    },
    "accelerator": "GPU"
  },
  "cells": [
    {
      "cell_type": "markdown",
      "source": [
        "#CUDA C++ Program Run\n",
        "1. Runtime --> Change runtime type --> Enable GPU\n",
        "2. Check if CUDA compiler and tools is available: !nvcc --version\n",
        "3. First mount the drive, create a folder then clone the repo\n",
        "4. Install CUDA environment from github:\n",
        "pip install git+https://github.com/andreinechaev/nvcc4jupyter.git\n",
        "Note: NVCC : NDIVIA CUDA COMPILER, see: https://github.com/andreinechaev/nvcc4jupyter\n",
        "4. Load the installed plugin: %load_ext nvcc_plugin\n",
        "5. Now we can run C++ program."
      ],
      "metadata": {
        "id": "i2kO35XJE8cH"
      }
    },
    {
      "cell_type": "code",
      "source": [
        "!nvcc --version"
      ],
      "metadata": {
        "colab": {
          "base_uri": "https://localhost:8080/"
        },
        "id": "ISBc1i6jFFmO",
        "outputId": "130546e9-6deb-42ee-eebf-f0f53d8f06e6"
      },
      "execution_count": 1,
      "outputs": [
        {
          "output_type": "stream",
          "name": "stdout",
          "text": [
            "nvcc: NVIDIA (R) Cuda compiler driver\n",
            "Copyright (c) 2005-2022 NVIDIA Corporation\n",
            "Built on Wed_Sep_21_10:33:58_PDT_2022\n",
            "Cuda compilation tools, release 11.8, V11.8.89\n",
            "Build cuda_11.8.r11.8/compiler.31833905_0\n"
          ]
        }
      ]
    },
    {
      "cell_type": "code",
      "source": [
        "!apt-get install -y git"
      ],
      "metadata": {
        "colab": {
          "base_uri": "https://localhost:8080/"
        },
        "id": "rpkhgjYYHsAX",
        "outputId": "68ef533d-9937-4e8c-ea63-4b9220102c91"
      },
      "execution_count": 9,
      "outputs": [
        {
          "output_type": "stream",
          "name": "stdout",
          "text": [
            "Reading package lists... Done\n",
            "Building dependency tree... Done\n",
            "Reading state information... Done\n",
            "git is already the newest version (1:2.34.1-1ubuntu1.10).\n",
            "0 upgraded, 0 newly installed, 0 to remove and 18 not upgraded.\n"
          ]
        }
      ]
    },
    {
      "cell_type": "code",
      "source": [
        "from google.colab import drive\n",
        "drive.mount('/content/drive')"
      ],
      "metadata": {
        "colab": {
          "base_uri": "https://localhost:8080/"
        },
        "id": "vatpIbD3KcjF",
        "outputId": "4d1eada7-85c3-4173-c079-5ec6f26e879f"
      },
      "execution_count": 25,
      "outputs": [
        {
          "output_type": "stream",
          "name": "stdout",
          "text": [
            "Drive already mounted at /content/drive; to attempt to forcibly remount, call drive.mount(\"/content/drive\", force_remount=True).\n"
          ]
        }
      ]
    },
    {
      "cell_type": "code",
      "source": [
        "!git clone https://github.com/andreinechaev/nvcc4jupyter.git"
      ],
      "metadata": {
        "colab": {
          "base_uri": "https://localhost:8080/"
        },
        "id": "DjSam0AfLPyV",
        "outputId": "b4feef14-ad0d-4050-b43c-257cabb9d77c"
      },
      "execution_count": 12,
      "outputs": [
        {
          "output_type": "stream",
          "name": "stdout",
          "text": [
            "Cloning into 'nvcc4jupyter'...\n",
            "remote: Enumerating objects: 52, done.\u001b[K\n",
            "remote: Counting objects: 100% (7/7), done.\u001b[K\n",
            "remote: Compressing objects: 100% (6/6), done.\u001b[K\n",
            "remote: Total 52 (delta 1), reused 2 (delta 1), pack-reused 45\u001b[K\n",
            "Receiving objects: 100% (52/52), 9.76 KiB | 713.00 KiB/s, done.\n",
            "Resolving deltas: 100% (17/17), done.\n"
          ]
        }
      ]
    },
    {
      "cell_type": "code",
      "source": [
        "cd /content/drive/MyDrive/Colab Notebooks/CUDAProgramming/nvcc4jupyter"
      ],
      "metadata": {
        "colab": {
          "base_uri": "https://localhost:8080/"
        },
        "id": "Rdp_bhzKK2VD",
        "outputId": "5ee3710e-7a55-4526-fe1a-9f9e1fb84043"
      },
      "execution_count": 26,
      "outputs": [
        {
          "output_type": "stream",
          "name": "stdout",
          "text": [
            "/content/drive/MyDrive/Colab Notebooks/CUDA Programming/nvcc4jupyter\n"
          ]
        }
      ]
    },
    {
      "cell_type": "code",
      "source": [
        "!git clone --filter=blob:none --quiet https://github.com/andreinechaev/nvcc4jupyter.git /tmp/pip-req-build-h6nsw3u_"
      ],
      "metadata": {
        "colab": {
          "base_uri": "https://localhost:8080/"
        },
        "id": "PklWUkvjRM6a",
        "outputId": "c009e5d3-acaa-47f8-997c-74f7cbcbfcf9"
      },
      "execution_count": 31,
      "outputs": [
        {
          "output_type": "stream",
          "name": "stdout",
          "text": [
            "remote: Enumerating objects: 8, done.\u001b[K\n",
            "remote: Counting objects:  25% (1/4)\u001b[K\rremote: Counting objects:  50% (2/4)\u001b[K\rremote: Counting objects:  75% (3/4)\u001b[K\rremote: Counting objects: 100% (4/4)\u001b[K\rremote: Counting objects: 100% (4/4), done.\u001b[K\n",
            "remote: Compressing objects:  25% (1/4)\u001b[K\rremote: Compressing objects:  50% (2/4)\u001b[K\rremote: Compressing objects:  75% (3/4)\u001b[K\rremote: Compressing objects: 100% (4/4)\u001b[K\rremote: Compressing objects: 100% (4/4), done.\u001b[K\n",
            "Receiving objects:  12% (1/8)\rReceiving objects:  25% (2/8)\rReceiving objects:  37% (3/8)\rReceiving objects:  50% (4/8)\rReceiving objects:  62% (5/8)\rReceiving objects:  75% (6/8)\rReceiving objects:  87% (7/8)\rReceiving objects: 100% (8/8)\rReceiving objects: 100% (8/8), 3.04 KiB | 3.04 MiB/s, done.\n",
            "remote: Total 8 (delta 0), reused 0 (delta 0), pack-reused 4\u001b[K\n"
          ]
        }
      ]
    },
    {
      "cell_type": "code",
      "source": [
        "pip install git+https://github.com/andreinechaev/nvcc4jupyter.git"
      ],
      "metadata": {
        "colab": {
          "base_uri": "https://localhost:8080/"
        },
        "id": "ggfnEVR9LcZr",
        "outputId": "7002b85f-d95f-4668-e915-8617cb70c566"
      },
      "execution_count": 35,
      "outputs": [
        {
          "output_type": "stream",
          "name": "stdout",
          "text": [
            "Collecting git+https://github.com/andreinechaev/nvcc4jupyter.git\n",
            "  Cloning https://github.com/andreinechaev/nvcc4jupyter.git to /tmp/pip-req-build-397td5uh\n",
            "  Running command git clone --filter=blob:none --quiet https://github.com/andreinechaev/nvcc4jupyter.git /tmp/pip-req-build-397td5uh\n",
            "  Resolved https://github.com/andreinechaev/nvcc4jupyter.git to commit 0a71d56e5dce3ff1f0dd2c47c29367629262f527\n",
            "  Preparing metadata (setup.py) ... \u001b[?25l\u001b[?25hdone\n",
            "Building wheels for collected packages: NVCCPlugin\n",
            "  Building wheel for NVCCPlugin (setup.py) ... \u001b[?25l\u001b[?25hdone\n",
            "  Created wheel for NVCCPlugin: filename=NVCCPlugin-0.0.2-py3-none-any.whl size=4295 sha256=c9efaf5d958e8b1cee51ed22884e8a1278d694d9df04675a2e3178f8c866cb32\n",
            "  Stored in directory: /tmp/pip-ephem-wheel-cache-q_2t8lcd/wheels/a8/b9/18/23f8ef71ceb0f63297dd1903aedd067e6243a68ea756d6feea\n",
            "Successfully built NVCCPlugin\n",
            "Installing collected packages: NVCCPlugin\n",
            "Successfully installed NVCCPlugin-0.0.2\n"
          ]
        }
      ]
    },
    {
      "cell_type": "code",
      "source": [
        "%load_ext nvcc_plugin"
      ],
      "metadata": {
        "colab": {
          "base_uri": "https://localhost:8080/"
        },
        "id": "TsNWvZpDHALP",
        "outputId": "828b6897-bc86-4e9f-fdda-8333fbb38b13"
      },
      "execution_count": 36,
      "outputs": [
        {
          "output_type": "stream",
          "name": "stdout",
          "text": [
            "created output directory at /content/drive/MyDrive/Colab Notebooks/CUDAProgramming/nvcc4jupyter/src\n",
            "Out bin /content/drive/MyDrive/Colab Notebooks/CUDAProgramming/nvcc4jupyter/result.out\n"
          ]
        }
      ]
    },
    {
      "cell_type": "code",
      "source": [
        "%%cu\n",
        "#include \"cuda_runtime.h\"\n",
        "#include \"device_launch_parameters.h\"\n",
        "\n",
        "#include <stdio.h>\n",
        "\n",
        "__global__ void hello_cuda()\n",
        "{\n",
        "    printf(\"Hello CUDA world \\n\");\n",
        "}\n",
        "\n",
        "int main()\n",
        "{\n",
        "    hello_cuda <<  <1,1 >> > ();\n",
        "    cudaDeviceSynchronize();\n",
        "\n",
        "    cudaDeviceReset();\n",
        "    return 0;\n",
        "}"
      ],
      "metadata": {
        "colab": {
          "base_uri": "https://localhost:8080/"
        },
        "id": "oOJrX4fiSC1y",
        "outputId": "5f0f860f-a36c-4692-e4d5-2a138d4aadc9"
      },
      "execution_count": 43,
      "outputs": [
        {
          "output_type": "stream",
          "name": "stdout",
          "text": [
            "Hello CUDA world \n",
            "\n"
          ]
        }
      ]
    },
    {
      "cell_type": "markdown",
      "source": [],
      "metadata": {
        "id": "Fgvy9Kf-VvW2"
      }
    },
    {
      "cell_type": "code",
      "source": [
        "%%cu\n"
      ],
      "metadata": {
        "colab": {
          "base_uri": "https://localhost:8080/"
        },
        "id": "Xs2C60rWUlZ_",
        "outputId": "cc5dadbc-ebd4-440a-b152-cbbf64abedb5"
      },
      "execution_count": 41,
      "outputs": [
        {
          "output_type": "stream",
          "name": "stdout",
          "text": [
            "/tmp/tmpqy4c50_t/c3b30607-bc4d-4a3b-9cd5-76632c17d628.cu(1): error: this declaration has no storage class or type specifier\n",
            "\n",
            "/tmp/tmpqy4c50_t/c3b30607-bc4d-4a3b-9cd5-76632c17d628.cu(1): error: expected a \";\"\n",
            "\n",
            "2 errors detected in the compilation of \"/tmp/tmpqy4c50_t/c3b30607-bc4d-4a3b-9cd5-76632c17d628.cu\".\n",
            "\n"
          ]
        }
      ]
    },
    {
      "cell_type": "code",
      "source": [
        "%%cu\n"
      ],
      "metadata": {
        "colab": {
          "base_uri": "https://localhost:8080/"
        },
        "id": "Ac6PtQStUUL4",
        "outputId": "6b323313-e586-4b76-a93e-b1c4d222e8a4"
      },
      "execution_count": 40,
      "outputs": [
        {
          "output_type": "stream",
          "name": "stdout",
          "text": [
            "/tmp/tmpjfjpqs38/0f600213-780a-478d-bc4d-bbea1f0ff26e.cu(3): error: expected an expression\n",
            "\n",
            "/tmp/tmpjfjpqs38/0f600213-780a-478d-bc4d-bbea1f0ff26e.cu(3): error: expected an expression\n",
            "\n",
            "/tmp/tmpjfjpqs38/0f600213-780a-478d-bc4d-bbea1f0ff26e.cu(3): error: expected a \">>>\"\n",
            "\n",
            "/tmp/tmpjfjpqs38/0f600213-780a-478d-bc4d-bbea1f0ff26e.cu(3): error: expected a \"(\"\n",
            "\n",
            "/tmp/tmpjfjpqs38/0f600213-780a-478d-bc4d-bbea1f0ff26e.cu(4): error: expected a \")\"\n",
            "\n",
            "/tmp/tmpjfjpqs38/0f600213-780a-478d-bc4d-bbea1f0ff26e.cu(3): error: identifier \"hello_cuda\" is undefined\n",
            "\n",
            "6 errors detected in the compilation of \"/tmp/tmpjfjpqs38/0f600213-780a-478d-bc4d-bbea1f0ff26e.cu\".\n",
            "\n"
          ]
        }
      ]
    }
  ]
}